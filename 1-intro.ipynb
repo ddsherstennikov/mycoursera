{
 "cells": [
  {
   "cell_type": "code",
   "execution_count": null,
   "metadata": {
    "collapsed": true
   },
   "outputs": [
    {
     "name": "stdout",
     "output_type": "stream",
     "text": [
      "           0          1          2          3          4\n0  -8.446227  -1.740105  18.184924   2.875732   7.779644\n1  -3.771724   8.954240  -8.783587   7.053688   3.837262\n2  13.229734   3.545549   1.876562  -3.329736   3.679507\n3  -6.194180  -2.854123 -17.638460  22.613232  -3.425204\n4   3.637397 -18.767408  14.870688  18.584712  13.018378\n5 -22.028057  18.896253  16.161114  -1.007954   5.217141\n6   4.431533   4.585184  12.035722   4.877684  16.003594\n7   5.545405   1.970911   5.879402   2.911383  11.294177\n8  -5.912389  13.325838 -13.562578 -17.076894   3.859494\n9   4.669862  -2.235866  11.122668   5.114094   6.648588\n\n          0         1         2         3         4\n0 -0.741113 -0.440908  1.145334 -0.132419  0.187197\n1 -0.243533  0.653580 -1.034436  0.266785 -0.559477\n2  1.566199  0.100040 -0.172814 -0.725354 -0.589355\n3 -0.501393 -0.554919 -1.750145  1.753504 -1.934964\n4  0.545136 -2.183526  0.877456  1.368578  1.179396\n5 -2.186840  1.671071  0.981757 -0.503507 -0.298132\n6  0.629668  0.206439  0.648316  0.058868  1.744786\n7  0.748235 -0.061113  0.150722 -0.129013  0.852838\n8 -0.471397  1.100980 -1.420706 -2.038898 -0.555266\n9  0.655037 -0.491645  0.574517  0.081457 -0.027021\n\n(array([1, 4, 5], dtype=int64),)\n\n     0    1    2\n0  1.0  0.0  0.0\n1  0.0  1.0  0.0\n2  0.0  0.0  1.0\n\n     0    1    2\n0  1.0  0.0  0.0\n1  0.0  1.0  0.0\n2  0.0  0.0  1.0\n\n     0    1    2\n0  1.0  0.0  0.0\n1  0.0  1.0  0.0\n2  0.0  0.0  1.0\n3  1.0  0.0  0.0\n4  0.0  1.0  0.0\n5  0.0  0.0  1.0\n\n"
     ]
    }
   ],
   "source": [
    "import numpy as np\n",
    "import pandas as pd\n",
    "%matplotlib inline\n",
    "\n",
    "\n",
    "def main():\n",
    "    np.set_printoptions(precision=3, suppress=True)\n",
    "    \n",
    "    x = np.random.normal(loc=1, scale=10, size=(10, 5))\n",
    "    print(pd.DataFrame(np.asmatrix(x)))\n",
    "    print('')\n",
    "\n",
    "    m = np.mean(x, axis=0)\n",
    "    std = np.std(x, axis=0)\n",
    "    x_norm = ((x - m) / std)\n",
    "    print(pd.DataFrame(np.asmatrix(x_norm)))\n",
    "    print('')\n",
    "\n",
    "    z = np.array([[4, 5, 0],\n",
    "                  [1, 9, 3],\n",
    "                  [5, 1, 1],\n",
    "                  [3, 3, 3],\n",
    "                  [9, 9, 9],\n",
    "                  [4, 7, 1]])\n",
    "    r = np.sum(z, axis=1)\n",
    "    print(np.nonzero(r > 10))\n",
    "    print('')\n",
    "\n",
    "    a = np.eye(3)\n",
    "    b = np.eye(3)\n",
    "    print(pd.DataFrame(np.asmatrix(a)))\n",
    "    print('')\n",
    "    print(pd.DataFrame(np.asmatrix(b)))\n",
    "    print('')\n",
    "\n",
    "    ab = np.vstack((a, b))\n",
    "    print(pd.DataFrame(np.asmatrix(ab)))\n",
    "    print('')\n",
    "\n",
    "\n",
    "main()\n",
    "\n"
   ]
  },
  {
   "cell_type": "code",
   "execution_count": 3,
   "metadata": {},
   "outputs": [],
   "source": []
  },
  {
   "cell_type": "code",
   "execution_count": 3,
   "metadata": {},
   "outputs": [],
   "source": []
  },
  {
   "cell_type": "code",
   "execution_count": null,
   "metadata": {},
   "outputs": [],
   "source": []
  }
 ],
 "metadata": {
  "kernelspec": {
   "display_name": "Python 2",
   "language": "python",
   "name": "python2"
  },
  "language_info": {
   "codemirror_mode": {
    "name": "ipython",
    "version": 2
   },
   "file_extension": ".py",
   "mimetype": "text/x-python",
   "name": "python",
   "nbconvert_exporter": "python",
   "pygments_lexer": "ipython2",
   "version": "2.7.6"
  }
 },
 "nbformat": 4,
 "nbformat_minor": 0
}
